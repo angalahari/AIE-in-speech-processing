{
 "cells": [
  {
   "cell_type": "markdown",
   "id": "4e22d016",
   "metadata": {},
   "source": [
    "# BL.EN.U4AIE21009\n",
    "# HARI PRASAD"
   ]
  },
  {
   "cell_type": "code",
   "execution_count": 5,
   "id": "567c198d",
   "metadata": {},
   "outputs": [
    {
     "name": "stdout",
     "output_type": "stream",
     "text": [
      "Requirement already satisfied: hmmlearn in ./.local/lib/python3.10/site-packages (0.3.2.post3+g97c2fc5)\n",
      "Requirement already satisfied: numpy>=1.10 in ./anaconda3/lib/python3.10/site-packages (from hmmlearn) (1.23.5)\n",
      "Requirement already satisfied: scikit-learn!=0.22.0,>=0.16 in ./anaconda3/lib/python3.10/site-packages (from hmmlearn) (1.2.1)\n",
      "Requirement already satisfied: scipy>=0.19 in ./anaconda3/lib/python3.10/site-packages (from hmmlearn) (1.10.0)\n",
      "Requirement already satisfied: joblib>=1.1.1 in ./anaconda3/lib/python3.10/site-packages (from scikit-learn!=0.22.0,>=0.16->hmmlearn) (1.1.1)\n",
      "Requirement already satisfied: threadpoolctl>=2.0.0 in ./anaconda3/lib/python3.10/site-packages (from scikit-learn!=0.22.0,>=0.16->hmmlearn) (2.2.0)\n",
      "Note: you may need to restart the kernel to use updated packages.\n"
     ]
    }
   ],
   "source": [
    "pip install hmmlearn\n"
   ]
  },
  {
   "cell_type": "code",
   "execution_count": 9,
   "id": "b08c0846",
   "metadata": {},
   "outputs": [
    {
     "name": "stdout",
     "output_type": "stream",
     "text": [
      "Log likelihood of the test set: -1282.0062321523717\n"
     ]
    }
   ],
   "source": [
    "import librosa\n",
    "import numpy as np\n",
    "from hmmlearn import hmm\n",
    "from sklearn.model_selection import train_test_split\n",
    "\n",
    "# Step 1: Preprocess the speech signal to extract STFT features\n",
    "def extract_features(file_path, n_mfcc=13, n_fft=2048, hop_length=512):\n",
    "    # Load the audio file\n",
    "    y, sr = librosa.load(file_path)\n",
    "    # Extract MFCC features\n",
    "    mfccs = librosa.feature.mfcc(y=y, sr=sr, n_mfcc=n_mfcc, n_fft=n_fft, hop_length=hop_length)\n",
    "    # Return the MFCC features\n",
    "    return mfccs.T\n",
    "\n",
    "# Step 2: Train the HMM model on the extracted features\n",
    "def train_hmm(X_train, n_components=3, covariance_type='diag', n_iter=100):\n",
    "    model = hmm.GaussianHMM(n_components=n_components, covariance_type=covariance_type, n_iter=n_iter)\n",
    "    model.fit(X_train)\n",
    "    return model\n",
    "\n",
    "# Step 3: Test the trained model on new speech signals for classification\n",
    "def test_hmm(model, X_test):\n",
    "    return model.score(X_test)\n",
    "\n",
    "# Example usage\n",
    "if __name__ == \"__main__\":\n",
    "    # Assuming you have speech signals saved in files\n",
    "    speech_files = [\"kasavanahalli.wav\"]  # List of speech file paths\n",
    "    X = []\n",
    "    # Extract features from each speech file\n",
    "    for file_path in speech_files:\n",
    "        features = extract_features(file_path)\n",
    "        X.append(features)\n",
    "    \n",
    "    # Convert the list of feature arrays into a single 2D array\n",
    "    X = np.vstack(X)\n",
    "    \n",
    "    # Split data into train and test sets\n",
    "    X_train, X_test = train_test_split(X, test_size=0.2, random_state=42)\n",
    "    \n",
    "    # Train HMM model\n",
    "    model = train_hmm(X_train)\n",
    "    \n",
    "    # Test the model\n",
    "    score = test_hmm(model, X_test)\n",
    "    print(\"Log likelihood of the test set:\", score)"
   ]
  },
  {
   "cell_type": "code",
   "execution_count": null,
   "id": "7ddee120",
   "metadata": {},
   "outputs": [],
   "source": []
  }
 ],
 "metadata": {
  "kernelspec": {
   "display_name": "Python 3 (ipykernel)",
   "language": "python",
   "name": "python3"
  },
  "language_info": {
   "codemirror_mode": {
    "name": "ipython",
    "version": 3
   },
   "file_extension": ".py",
   "mimetype": "text/x-python",
   "name": "python",
   "nbconvert_exporter": "python",
   "pygments_lexer": "ipython3",
   "version": "3.10.9"
  }
 },
 "nbformat": 4,
 "nbformat_minor": 5
}
